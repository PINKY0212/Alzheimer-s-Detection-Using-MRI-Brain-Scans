{
 "cells": [
  {
   "cell_type": "code",
   "execution_count": 1,
   "metadata": {
    "executionInfo": {
     "elapsed": 4,
     "status": "ok",
     "timestamp": 1667012416710,
     "user": {
      "displayName": "Pinky.Sherwani Btech2019",
      "userId": "02495759694323627567"
     },
     "user_tz": -330
    },
    "id": "5RCSdmZ14z7j"
   },
   "outputs": [],
   "source": [
    "! mkdir ~/.kaggle"
   ]
  },
  {
   "cell_type": "code",
   "execution_count": 2,
   "metadata": {
    "colab": {
     "base_uri": "https://localhost:8080/"
    },
    "executionInfo": {
     "elapsed": 20493,
     "status": "ok",
     "timestamp": 1667012444180,
     "user": {
      "displayName": "Pinky.Sherwani Btech2019",
      "userId": "02495759694323627567"
     },
     "user_tz": -330
    },
    "id": "jSPVo_vG4-eq",
    "outputId": "461aded5-a0bb-49b1-a994-367572a3f299"
   },
   "outputs": [
    {
     "name": "stdout",
     "output_type": "stream",
     "text": [
      "Mounted at /content/drive\n"
     ]
    }
   ],
   "source": [
    "from google.colab import drive\n",
    "drive.mount('/content/drive')"
   ]
  },
  {
   "cell_type": "code",
   "execution_count": 3,
   "metadata": {
    "executionInfo": {
     "elapsed": 829,
     "status": "ok",
     "timestamp": 1667012448671,
     "user": {
      "displayName": "Pinky.Sherwani Btech2019",
      "userId": "02495759694323627567"
     },
     "user_tz": -330
    },
    "id": "jWbfVET4F9WE"
   },
   "outputs": [],
   "source": [
    "!cp /content/drive/MyDrive/kaggle.json ~/.kaggle/kaggle.json"
   ]
  },
  {
   "cell_type": "code",
   "execution_count": 4,
   "metadata": {
    "colab": {
     "base_uri": "https://localhost:8080/"
    },
    "executionInfo": {
     "elapsed": 390,
     "status": "ok",
     "timestamp": 1667012459958,
     "user": {
      "displayName": "Pinky.Sherwani Btech2019",
      "userId": "02495759694323627567"
     },
     "user_tz": -330
    },
    "id": "QB5Ew-OuAZzk",
    "outputId": "2fe4f0cb-0668-40d9-8054-5df4296bf755"
   },
   "outputs": [
    {
     "name": "stdout",
     "output_type": "stream",
     "text": [
      "/content/sample_data\n"
     ]
    }
   ],
   "source": [
    "cd /content/sample_data"
   ]
  },
  {
   "cell_type": "code",
   "execution_count": 5,
   "metadata": {
    "colab": {
     "base_uri": "https://localhost:8080/"
    },
    "executionInfo": {
     "elapsed": 1414,
     "status": "ok",
     "timestamp": 1667012463887,
     "user": {
      "displayName": "Pinky.Sherwani Btech2019",
      "userId": "02495759694323627567"
     },
     "user_tz": -330
    },
    "id": "V9NoVy1a5CJ9",
    "outputId": "c9007b02-d872-489b-c582-0f339e69d2a7"
   },
   "outputs": [
    {
     "name": "stdout",
     "output_type": "stream",
     "text": [
      "Downloading alzheimers-dataset-4-class-of-images.zip to /content/sample_data\n",
      " 85% 29.0M/34.1M [00:00<00:00, 111MB/s] \n",
      "100% 34.1M/34.1M [00:00<00:00, 108MB/s]\n"
     ]
    }
   ],
   "source": [
    "! kaggle datasets download -d tourist55/alzheimers-dataset-4-class-of-images"
   ]
  },
  {
   "cell_type": "code",
   "execution_count": 6,
   "metadata": {
    "colab": {
     "base_uri": "https://localhost:8080/"
    },
    "executionInfo": {
     "elapsed": 4935,
     "status": "ok",
     "timestamp": 1667012470976,
     "user": {
      "displayName": "Pinky.Sherwani Btech2019",
      "userId": "02495759694323627567"
     },
     "user_tz": -330
    },
    "id": "qLa7G5M055Sn",
    "outputId": "9e917416-ed96-4c1e-f804-4d2c0268a72a"
   },
   "outputs": [
    {
     "name": "stdout",
     "output_type": "stream",
     "text": [
      "Looking in indexes: https://pypi.org/simple, https://us-python.pkg.dev/colab-wheels/public/simple/\n",
      "Collecting tensorflow-addons\n",
      "  Downloading tensorflow_addons-0.18.0-cp37-cp37m-manylinux_2_17_x86_64.manylinux2014_x86_64.whl (1.1 MB)\n",
      "\u001b[K     |████████████████████████████████| 1.1 MB 4.9 MB/s \n",
      "\u001b[?25hRequirement already satisfied: typeguard>=2.7 in /usr/local/lib/python3.7/dist-packages (from tensorflow-addons) (2.7.1)\n",
      "Requirement already satisfied: packaging in /usr/local/lib/python3.7/dist-packages (from tensorflow-addons) (21.3)\n",
      "Requirement already satisfied: pyparsing!=3.0.5,>=2.0.2 in /usr/local/lib/python3.7/dist-packages (from packaging->tensorflow-addons) (3.0.9)\n",
      "Installing collected packages: tensorflow-addons\n",
      "Successfully installed tensorflow-addons-0.18.0\n"
     ]
    }
   ],
   "source": [
    "pip install -U tensorflow-addons"
   ]
  },
  {
   "cell_type": "code",
   "execution_count": null,
   "metadata": {
    "colab": {
     "base_uri": "https://localhost:8080/"
    },
    "executionInfo": {
     "elapsed": 2678,
     "status": "ok",
     "timestamp": 1667012476312,
     "user": {
      "displayName": "Pinky.Sherwani Btech2019",
      "userId": "02495759694323627567"
     },
     "user_tz": -330
    },
    "id": "clDwxk0n5OVd",
    "outputId": "4176193b-5ad4-4ed6-c8c0-5249a22bbb1d"
   },
   "outputs": [],
   "source": [
    "! unzip alzheimers-dataset-4-class-of-images.zip"
   ]
  },
  {
   "cell_type": "code",
   "execution_count": 8,
   "metadata": {
    "executionInfo": {
     "elapsed": 8769,
     "status": "ok",
     "timestamp": 1667012492053,
     "user": {
      "displayName": "Pinky.Sherwani Btech2019",
      "userId": "02495759694323627567"
     },
     "user_tz": -330
    },
    "id": "pYxyNaB_5U9u"
   },
   "outputs": [],
   "source": [
    "import numpy as np\n",
    "import pandas as pd \n",
    "import os\n",
    "import copy\n",
    "import warnings\n",
    "\n",
    "from keras.utils import np_utils\n",
    "warnings.filterwarnings('ignore')\n",
    "import tensorflow as tf\n",
    "import cv2\n",
    "import keras\n",
    "from keras.preprocessing.image import ImageDataGenerator\n",
    "from keras.utils import load_img, img_to_array\n",
    "#from keras.preprocessing.image import load_img, \n",
    "import matplotlib.pylab as plt\n",
    "import seaborn as sns\n",
    "from sklearn.utils import shuffle\n",
    "from sklearn.metrics import confusion_matrix\n",
    "from sklearn.model_selection import train_test_split\n",
    "from keras.applications.vgg16 import VGG16,preprocess_input"
   ]
  },
  {
   "cell_type": "code",
   "execution_count": 9,
   "metadata": {
    "executionInfo": {
     "elapsed": 13,
     "status": "ok",
     "timestamp": 1667012492054,
     "user": {
      "displayName": "Pinky.Sherwani Btech2019",
      "userId": "02495759694323627567"
     },
     "user_tz": -330
    },
    "id": "uFsP6xPI_NES"
   },
   "outputs": [],
   "source": [
    "W = 32 # The default size for ResNet is 224 but resize to .5 to save memory size\n",
    "H = 32 # The default size for ResNet is 224 but resize to .5 to save memory size\n",
    "\n",
    "label_to_class = {\n",
    "    'MildDemented': 0,\n",
    "    'ModerateDemented': 1,\n",
    "    'NonDemented': 2,\n",
    "    'VeryMildDemented':3\n",
    "    \n",
    "\n",
    "}\n",
    "class_to_label = {v: k for k, v in label_to_class.items()}\n",
    "n_classes = len(label_to_class)\n",
    "\n",
    "def get_images(dir_name='../content/sample_data/Alzheimer_s Dataset/', label_to_class=label_to_class):\n",
    "    \"\"\"read images / labels from directory\"\"\"\n",
    "    \n",
    "    Images = []\n",
    "    Classes = []\n",
    "    \n",
    "    for j in ['/train','/test']:\n",
    "        for label_name in os.listdir(dir_name+str(j)):\n",
    "            cls = label_to_class[label_name]\n",
    "\n",
    "            for img_name in os.listdir('/'.join([dir_name+str(j), label_name])):\n",
    "                img = load_img('/'.join([dir_name+str(j), label_name, img_name]), target_size=(W, H))\n",
    "                img = img_to_array(img)\n",
    "\n",
    "                Images.append(img)\n",
    "                Classes.append(cls)\n",
    "            \n",
    "    Images = np.array(Images, dtype=np.float32)\n",
    "    Classes = np.array(Classes, dtype=np.float32)\n",
    "    Images, Classes = shuffle(Images, Classes, random_state=0)\n",
    "    \n",
    "    return Images, Classes"
   ]
  },
  {
   "cell_type": "code",
   "execution_count": 10,
   "metadata": {
    "colab": {
     "base_uri": "https://localhost:8080/"
    },
    "executionInfo": {
     "elapsed": 4,
     "status": "ok",
     "timestamp": 1667012498725,
     "user": {
      "displayName": "Pinky.Sherwani Btech2019",
      "userId": "02495759694323627567"
     },
     "user_tz": -330
    },
    "id": "5-5qizH-HLaU",
    "outputId": "7cdd180c-d8fc-4e07-b54e-b34169349647"
   },
   "outputs": [
    {
     "name": "stdout",
     "output_type": "stream",
     "text": [
      "/content\n"
     ]
    }
   ],
   "source": [
    "cd /content"
   ]
  },
  {
   "cell_type": "code",
   "execution_count": 11,
   "metadata": {
    "colab": {
     "base_uri": "https://localhost:8080/"
    },
    "executionInfo": {
     "elapsed": 4591,
     "status": "ok",
     "timestamp": 1667012513455,
     "user": {
      "displayName": "Pinky.Sherwani Btech2019",
      "userId": "02495759694323627567"
     },
     "user_tz": -330
    },
    "id": "E2_nip_b5oyF",
    "outputId": "5b121f5e-9d44-4bbb-b75a-360f63689bab"
   },
   "outputs": [
    {
     "data": {
      "text/plain": [
       "((6400, 32, 32, 3), (6400,))"
      ]
     },
     "execution_count": 11,
     "metadata": {},
     "output_type": "execute_result"
    }
   ],
   "source": [
    "## get images and labels\n",
    "\n",
    "Images, Classes = get_images()\n",
    "\n",
    "Images.shape, Classes.shape"
   ]
  },
  {
   "cell_type": "code",
   "execution_count": 12,
   "metadata": {
    "colab": {
     "base_uri": "https://localhost:8080/"
    },
    "executionInfo": {
     "elapsed": 370,
     "status": "ok",
     "timestamp": 1667012515557,
     "user": {
      "displayName": "Pinky.Sherwani Btech2019",
      "userId": "02495759694323627567"
     },
     "user_tz": -330
    },
    "id": "PAOM02vF5s28",
    "outputId": "873b6843-841c-4348-8130-335dfa3a8a01"
   },
   "outputs": [
    {
     "data": {
      "text/plain": [
       "((5120, 32, 32, 3), (5120,), (1280, 32, 32, 3), (1280,))"
      ]
     },
     "execution_count": 12,
     "metadata": {},
     "output_type": "execute_result"
    }
   ],
   "source": [
    "## split train / test\n",
    "\n",
    "indices_train, indices_test = train_test_split(list(range(Images.shape[0])), train_size=0.8, test_size=0.2, shuffle=True)\n",
    "\n",
    "x_train = Images[indices_train]\n",
    "y_train = Classes[indices_train]\n",
    "x_test = Images[indices_test]\n",
    "y_test = Classes[indices_test]\n",
    "\n",
    "x_train.shape, y_train.shape, x_test.shape, y_test.shape"
   ]
  },
  {
   "cell_type": "code",
   "execution_count": 13,
   "metadata": {
    "colab": {
     "base_uri": "https://localhost:8080/"
    },
    "executionInfo": {
     "elapsed": 389,
     "status": "ok",
     "timestamp": 1667012519187,
     "user": {
      "displayName": "Pinky.Sherwani Btech2019",
      "userId": "02495759694323627567"
     },
     "user_tz": -330
    },
    "id": "ihnXG6EI51_J",
    "outputId": "797f0dd2-3ad3-48db-93b8-f8366b9c4b9f"
   },
   "outputs": [
    {
     "data": {
      "text/plain": [
       "((5120, 4), (1280, 4))"
      ]
     },
     "execution_count": 13,
     "metadata": {},
     "output_type": "execute_result"
    }
   ],
   "source": [
    "y_train = keras.utils.np_utils.to_categorical(y_train, n_classes)\n",
    "y_test = keras.utils.np_utils.to_categorical(y_test, n_classes)\n",
    "\n",
    "y_train.shape, y_test.shape"
   ]
  },
  {
   "cell_type": "code",
   "execution_count": 16,
   "metadata": {
    "executionInfo": {
     "elapsed": 382,
     "status": "ok",
     "timestamp": 1667012609557,
     "user": {
      "displayName": "Pinky.Sherwani Btech2019",
      "userId": "02495759694323627567"
     },
     "user_tz": -330
    },
    "id": "-c5MThon589C"
   },
   "outputs": [],
   "source": [
    "import numpy as np\n",
    "import tensorflow as tf\n",
    "from tensorflow import keras\n",
    "from tensorflow.keras import layers\n",
    "import tensorflow_addons as tfa"
   ]
  },
  {
   "cell_type": "code",
   "execution_count": 14,
   "metadata": {
    "executionInfo": {
     "elapsed": 377,
     "status": "ok",
     "timestamp": 1667012539981,
     "user": {
      "displayName": "Pinky.Sherwani Btech2019",
      "userId": "02495759694323627567"
     },
     "user_tz": -330
    },
    "id": "RwjWT1S_6brd"
   },
   "outputs": [],
   "source": [
    "# hyperparameters \n",
    "\n",
    "num_classes = 4\n",
    "input_shape = (32, 32, 3)\n",
    "learning_rate = 0.001\n",
    "weight_decay = 0.0001\n",
    "batch_size = 64\n",
    "num_epochs = 10\n",
    "image_size = 128  # We'll resize input images to this size\n",
    "patch_size = 12  # Size of the patches to be extract from the input images\n",
    "dim = 64\n",
    "depth = 8 #16\n",
    "num_patches = (image_size // patch_size) ** 2\n",
    "projection_dim = 64\n",
    "heads = 4\n",
    "transformer_units = [dim * 2,dim,]  # Size of the transformer layers\n",
    "transformer_layers = 4 # 6-8\n",
    "mlp_head_units = [2048, 1024] \n",
    "mlp_dim = 8"
   ]
  },
  {
   "cell_type": "code",
   "execution_count": null,
   "metadata": {
    "executionInfo": {
     "elapsed": 1278,
     "status": "ok",
     "timestamp": 1667012613881,
     "user": {
      "displayName": "Pinky.Sherwani Btech2019",
      "userId": "02495759694323627567"
     },
     "user_tz": -330
    },
    "id": "fvCpNRyLCA_6"
   },
   "outputs": [],
   "source": [
    "#data augmentation\n",
    "data_augmentation = keras.Sequential(\n",
    "    [\n",
    "        layers.Normalization(),\n",
    "        layers.Resizing(image_size, image_size, 3),\n",
    "        layers.RandomFlip(\"horizontal\"),\n",
    "        layers.RandomRotation(factor=0.02),\n",
    "        layers.RandomZoom(height_factor=0.2, width_factor=0.2),\n",
    "    ],\n",
    "    name=\"data_augmentation\",\n",
    ")\n",
    "# Compute the mean and the variance of the training data for normalization.\n",
    "data_augmentation.layers[0].adapt(x_train)"
   ]
  },
  {
   "cell_type": "code",
   "execution_count": 18,
   "metadata": {
    "executionInfo": {
     "elapsed": 2,
     "status": "ok",
     "timestamp": 1667012635997,
     "user": {
      "displayName": "Pinky.Sherwani Btech2019",
      "userId": "02495759694323627567"
     },
     "user_tz": -330
    },
    "id": "1hFZiQG0CJpX"
   },
   "outputs": [],
   "source": [
    "#Implement patch creation as a layer\n",
    "class Patches(layers.Layer):\n",
    "    def __init__(self, patch_size):\n",
    "        super(Patches, self).__init__()\n",
    "        self.patch_size = patch_size\n",
    "\n",
    "    def call(self, images):\n",
    "        batch_size = tf.shape(images)[0]\n",
    "        patches = tf.image.extract_patches(\n",
    "            images=images,\n",
    "            sizes=[1, self.patch_size, self.patch_size, 1],\n",
    "            strides=[1, self.patch_size, self.patch_size, 1],\n",
    "            rates=[1, 1, 1, 1],\n",
    "            padding=\"VALID\",\n",
    "        )\n",
    "        patch_dims = patches.shape[-1]\n",
    "        patches = tf.reshape(patches, [batch_size, -1, patch_dims])\n",
    "        return patches"
   ]
  },
  {
   "cell_type": "code",
   "execution_count": 19,
   "metadata": {
    "colab": {
     "base_uri": "https://localhost:8080/",
     "height": 548
    },
    "executionInfo": {
     "elapsed": 3471,
     "status": "ok",
     "timestamp": 1667012642804,
     "user": {
      "displayName": "Pinky.Sherwani Btech2019",
      "userId": "02495759694323627567"
     },
     "user_tz": -330
    },
    "id": "ska1TmRvCO6X",
    "outputId": "1908e0d7-16b0-4cc0-f698-8672e685fd09"
   },
   "outputs": [
    {
     "name": "stdout",
     "output_type": "stream",
     "text": [
      "Image size: 128 X 128\n",
      "Patch size: 12 X 12\n",
      "Patches per image: 100\n",
      "Elements per patch: 432\n"
     ]
    },
    {
     "data": {
      "image/png": "[encoded data removed]",
      "text/plain": [
       "<Figure size 288x288 with 1 Axes>"
      ]
     },
     "metadata": {
      "needs_background": "light"
     },
     "output_type": "display_data"
    },
    {
     "data": {
      "image/png": "[encoded data removed]",
      "text/plain": [
       "<Figure size 288x288 with 100 Axes>"
      ]
     },
     "metadata": {
      "needs_background": "light"
     },
     "output_type": "display_data"
    }
   ],
   "source": [
    "#display a patch\n",
    "import matplotlib.pyplot as plt\n",
    "\n",
    "plt.figure(figsize=(4, 4))\n",
    "image = x_train[np.random.choice(range(x_train.shape[0]))]\n",
    "plt.imshow(image.astype(\"uint8\"))\n",
    "plt.axis(\"off\")\n",
    "\n",
    "resized_image = tf.image.resize(\n",
    "    tf.convert_to_tensor([image]), size=(image_size, image_size)\n",
    ")\n",
    "patches = Patches(patch_size)(resized_image)\n",
    "print(f\"Image size: {image_size} X {image_size}\")\n",
    "print(f\"Patch size: {patch_size} X {patch_size}\")\n",
    "print(f\"Patches per image: {patches.shape[1]}\")\n",
    "print(f\"Elements per patch: {patches.shape[-1]}\")\n",
    "\n",
    "n = int(np.sqrt(patches.shape[1]))\n",
    "plt.figure(figsize=(4, 4))\n",
    "for i, patch in enumerate(patches[0]):\n",
    "    ax = plt.subplot(n, n, i + 1)\n",
    "    patch_img = tf.reshape(patch, (patch_size, patch_size, 3))\n",
    "    plt.imshow(patch_img.numpy().astype(\"uint8\"))\n",
    "    plt.axis(\"off\")"
   ]
  },
  {
   "cell_type": "code",
   "execution_count": 20,
   "metadata": {
    "executionInfo": {
     "elapsed": 369,
     "status": "ok",
     "timestamp": 1667012655474,
     "user": {
      "displayName": "Pinky.Sherwani Btech2019",
      "userId": "02495759694323627567"
     },
     "user_tz": -330
    },
    "id": "FB8oieY_CTph"
   },
   "outputs": [],
   "source": [
    "# the patch encoding layer\n",
    "class PatchEncoder(layers.Layer):\n",
    "    def __init__(self, num_patches, dim):\n",
    "        super(PatchEncoder, self).__init__()\n",
    "        self.num_patches = num_patches\n",
    "        self.projection = layers.Dense(units=dim)\n",
    "        self.position_embedding = layers.Embedding(\n",
    "            input_dim=num_patches, output_dim=dim )\n",
    "\n",
    "    def call(self, patch):\n",
    "        positions = tf.range(start=0, limit=self.num_patches, delta=1)\n",
    "        encoded = self.projection(patch) + self.position_embedding(positions)\n",
    "        return encoded"
   ]
  },
  {
   "cell_type": "code",
   "execution_count": 21,
   "metadata": {
    "colab": {
     "base_uri": "https://localhost:8080/"
    },
    "executionInfo": {
     "elapsed": 3979,
     "status": "ok",
     "timestamp": 1667012669251,
     "user": {
      "displayName": "Pinky.Sherwani Btech2019",
      "userId": "02495759694323627567"
     },
     "user_tz": -330
    },
    "id": "MUf_52CzU80l",
    "outputId": "60bad6d3-9a48-4bb6-d808-b7c275e85083"
   },
   "outputs": [
    {
     "name": "stdout",
     "output_type": "stream",
     "text": [
      "Looking in indexes: https://pypi.org/simple, https://us-python.pkg.dev/colab-wheels/public/simple/\n",
      "Collecting einops\n",
      "  Downloading einops-0.5.0-py3-none-any.whl (36 kB)\n",
      "Installing collected packages: einops\n",
      "Successfully installed einops-0.5.0\n"
     ]
    }
   ],
   "source": [
    "pip install einops"
   ]
  },
  {
   "cell_type": "code",
   "execution_count": 22,
   "metadata": {
    "executionInfo": {
     "elapsed": 2721,
     "status": "ok",
     "timestamp": 1667012673902,
     "user": {
      "displayName": "Pinky.Sherwani Btech2019",
      "userId": "02495759694323627567"
     },
     "user_tz": -330
    },
    "id": "I_wpJJKbUB3l"
   },
   "outputs": [],
   "source": [
    "from torch import nn, einsum\n",
    "import torch.nn.functional as F\n",
    "\n",
    "\n",
    "from einops import rearrange, repeat\n",
    "from einops.layers.torch import Rearrange"
   ]
  },
  {
   "cell_type": "code",
   "execution_count": 23,
   "metadata": {
    "executionInfo": {
     "elapsed": 632,
     "status": "ok",
     "timestamp": 1667012691643,
     "user": {
      "displayName": "Pinky.Sherwani Btech2019",
      "userId": "02495759694323627567"
     },
     "user_tz": -330
    },
    "id": "3tRItZmh96ZK"
   },
   "outputs": [],
   "source": [
    "class Residual(nn.Module):\n",
    "    def __init__(self, fn):\n",
    "        super().__init__()\n",
    "        self.fn = fn\n",
    "    def forward(self, x, **kwargs):\n",
    "        return self.fn(x, **kwargs) + x\n",
    "\n",
    "class PreNorm(nn.Module):\n",
    "    def __init__(self, dim, fn):\n",
    "        super().__init__()\n",
    "        self.norm = nn.LayerNorm(dim)\n",
    "        self.fn = fn\n",
    "    def forward(self, x, **kwargs):\n",
    "        return self.fn(self.norm(x), **kwargs)\n",
    "\n",
    "class FeedForward(nn.Module):\n",
    "    def __init__(self, dim, hidden_dim, dropout = 0.):\n",
    "        super().__init__()\n",
    "        self.net = nn.Sequential(\n",
    "            nn.Linear(dim, hidden_dim),\n",
    "            nn.GELU(),\n",
    "            nn.Dropout(dropout),\n",
    "            nn.Linear(hidden_dim, dim),\n",
    "            nn.Dropout(dropout)\n",
    "        )\n",
    "    def forward(self, x):\n",
    "        return self.net(x)\n",
    "\n",
    "class Attention(nn.Module):\n",
    "    def __init__(self, dim, heads = 8, dim_head = 64, dropout = 0.):\n",
    "        super().__init__()\n",
    "        inner_dim = dim_head *  heads\n",
    "        self.heads = heads\n",
    "        self.scale = dim_head ** -0.5\n",
    "\n",
    "        self.to_qkv = nn.Linear(dim, inner_dim * 3, bias = False)\n",
    "\n",
    "        self.dropout = nn.Dropout(dropout)\n",
    "\n",
    "        self.reattn_weights = nn.Parameter(torch.randn(heads, heads))\n",
    "\n",
    "        self.reattn_norm = nn.Sequential(\n",
    "            Rearrange('b h i j -> b i j h'),\n",
    "            nn.LayerNorm(heads),\n",
    "            Rearrange('b i j h -> b h i j')\n",
    "        )\n",
    "\n",
    "        self.to_out = nn.Sequential(\n",
    "            nn.Linear(inner_dim, dim),\n",
    "            nn.Dropout(dropout)\n",
    "        )\n",
    "\n",
    "    def forward(self, x):\n",
    "        b, n, _, h = *x.shape, self.heads\n",
    "        qkv = self.to_qkv(x).chunk(3, dim = -1)\n",
    "        q, k, v = map(lambda t: rearrange(t, 'b n (h d) -> b h n d', h = h), qkv)\n",
    "\n",
    "        # attention\n",
    "\n",
    "        dots = einsum('b h i d, b h j d -> b h i j', q, k) * self.scale\n",
    "        attn = dots.softmax(dim=-1)\n",
    "        attn = self.dropout(attn)\n",
    "\n",
    "        # re-attention\n",
    "\n",
    "        attn = einsum('b h i j, h g -> b g i j', attn, self.reattn_weights)\n",
    "        attn = self.reattn_norm(attn)\n",
    "\n",
    "        # aggregate and out\n",
    "\n",
    "        out = einsum('b h i j, b h j d -> b h i d', attn, v)\n",
    "        out = rearrange(out, 'b h n d -> b n (h d)')\n",
    "        out =  self.to_out(out)\n",
    "        return out\n",
    "\n",
    "class Transformer(nn.Module):\n",
    "    def __init__(self, dim, depth, heads, dim_head, mlp_dim, dropout = 0.):\n",
    "        super().__init__()\n",
    "        self.layers = nn.ModuleList([])\n",
    "        for _ in range(depth):\n",
    "            self.layers.append(nn.ModuleList([\n",
    "                Residual(PreNorm(dim, Attention(dim, heads = heads, dim_head = dim_head, dropout = dropout))),\n",
    "                Residual(PreNorm(dim, FeedForward(dim, mlp_dim, dropout = dropout)))\n",
    "            ]))\n",
    "    def forward(self, x):\n",
    "        for attn, ff in self.layers:\n",
    "            x = attn(x)\n",
    "            x = ff(x)\n",
    "        return x\n",
    "\n",
    "class DeepViT(nn.Module):\n",
    "    def __init__(self, *, image_size, patch_size, num_classes, dim, depth, heads, mlp_dim,qkv_bias=False, qk_scale=None, pool = 'cls', channels = 3, dim_head = 64, dropout = 0., emb_dropout = 0.):\n",
    "        super().__init__()\n",
    "        assert image_size % patch_size == 0, 'Image dimensions must be divisible by the patch size.'\n",
    "        num_patches = (image_size // patch_size) ** 2\n",
    "        patch_dim = channels * patch_size ** 2\n",
    "        assert pool in {'cls', 'mean'}, 'pool type must be either cls (cls token) or mean (mean pooling)'\n",
    "\n",
    "        self.to_patch_embedding = nn.Sequential(\n",
    "            Rearrange('b c (h p1) (w p2) -> b (h w) (p1 p2 c)', p1 = patch_size, p2 = patch_size),\n",
    "            nn.Linear(patch_dim, dim),\n",
    "        )\n",
    "\n",
    "        self.pos_embedding = nn.Parameter(torch.randn(1, num_patches + 1, dim))\n",
    "        self.cls_token = nn.Parameter(torch.randn(1, 1, dim))\n",
    "        self.dropout = nn.Dropout(emb_dropout)\n",
    "\n",
    "        self.transformer = Transformer(dim, depth, heads, dim_head, mlp_dim, dropout)\n",
    "\n",
    "        self.pool = pool\n",
    "        self.to_latent = nn.Identity()\n",
    "\n",
    "        self.mlp_head = nn.Sequential(nn.LayerNorm(dim), nn.Linear(dim, num_classes)  )\n",
    "\n",
    "    def forward(self, img):\n",
    "        x = self.to_patch_embedding(img)\n",
    "        b, n, _ = x.shape\n",
    "\n",
    "        cls_tokens = repeat(self.cls_token, '() n d -> b n d', b = b)\n",
    "        x = torch.cat((cls_tokens, x), dim=1)\n",
    "        x += self.pos_embedding[:, :(n + 1)]\n",
    "        x = self.dropout(x)\n",
    "\n",
    "        x = self.transformer(x)\n",
    "\n",
    "        x = x.mean(dim = 1) if self.pool == 'mean' else x[:, 0]\n",
    "\n",
    "        x = self.to_latent(x)\n",
    "        return self.mlp_head(x)"
   ]
  },
  {
   "cell_type": "code",
   "execution_count": 26,
   "metadata": {
    "executionInfo": {
     "elapsed": 361,
     "status": "ok",
     "timestamp": 1667012755171,
     "user": {
      "displayName": "Pinky.Sherwani Btech2019",
      "userId": "02495759694323627567"
     },
     "user_tz": -330
    },
    "id": "lJ0IyrtOANFs"
   },
   "outputs": [],
   "source": [
    "import torch\n",
    "import torch.nn as nn\n",
    "from functools import partial"
   ]
  },
  {
   "cell_type": "code",
   "execution_count": null,
   "metadata": {
    "executionInfo": {
     "elapsed": 387,
     "status": "ok",
     "timestamp": 1667012757507,
     "user": {
      "displayName": "Pinky.Sherwani Btech2019",
      "userId": "02495759694323627567"
     },
     "user_tz": -330
    },
    "id": "3vawgMRE9MPe"
   },
   "outputs": [],
   "source": [
    "def deepvit_instantiator(pretrained=False,**kwargs):\n",
    "  transformer = [False] * 0 + [True] * 16\n",
    "  model = DeepViT(num_classes=4,  image_size=32, patch_size=32, dim=256, depth= 8, heads=12, mlp_dim=3,**kwargs)    \n",
    "  if pretrained:\n",
    "    load_pretrained(model, num_classes=model.num_classes, in_chans=kwargs.get('in_chans', 3))\n",
    "  return model"
   ]
  },
  {
   "cell_type": "code",
   "execution_count": 28,
   "metadata": {
    "executionInfo": {
     "elapsed": 648,
     "status": "ok",
     "timestamp": 1667012759995,
     "user": {
      "displayName": "Pinky.Sherwani Btech2019",
      "userId": "02495759694323627567"
     },
     "user_tz": -330
    },
    "id": "IGlIJ0_EX0Za"
   },
   "outputs": [],
   "source": [
    "base_model= deepvit_instantiator()"
   ]
  },
  {
   "cell_type": "code",
   "execution_count": 29,
   "metadata": {
    "executionInfo": {
     "elapsed": 415,
     "status": "ok",
     "timestamp": 1667012768883,
     "user": {
      "displayName": "Pinky.Sherwani Btech2019",
      "userId": "02495759694323627567"
     },
     "user_tz": -330
    },
    "id": "0Xa0pxqdYIsn"
   },
   "outputs": [],
   "source": [
    "from torchsummary import summary"
   ]
  },
  {
   "cell_type": "code",
   "execution_count": 32,
   "metadata": {
    "colab": {
     "base_uri": "https://localhost:8080/"
    },
    "executionInfo": {
     "elapsed": 386,
     "status": "ok",
     "timestamp": 1667012806713,
     "user": {
      "displayName": "Pinky.Sherwani Btech2019",
      "userId": "02495759694323627567"
     },
     "user_tz": -330
    },
    "id": "LL-W067FYCjx",
    "outputId": "1ea31ac9-c034-4f90-a198-59e69fcfdd49"
   },
   "outputs": [
    {
     "name": "stdout",
     "output_type": "stream",
     "text": [
      "----------------------------------------------------------------\n",
      "        Layer (type)               Output Shape         Param #\n",
      "================================================================\n",
      "         Rearrange-1              [-1, 1, 3072]               0\n",
      "            Linear-2               [-1, 1, 256]         786,688\n",
      "           Dropout-3               [-1, 2, 256]               0\n",
      "         LayerNorm-4               [-1, 2, 256]             512\n",
      "            Linear-5              [-1, 2, 2304]         589,824\n",
      "           Dropout-6             [-1, 12, 2, 2]               0\n",
      "         Rearrange-7             [-1, 2, 2, 12]               0\n",
      "         LayerNorm-8             [-1, 2, 2, 12]              24\n",
      "         Rearrange-9             [-1, 12, 2, 2]               0\n",
      "           Linear-10               [-1, 2, 256]         196,864\n",
      "          Dropout-11               [-1, 2, 256]               0\n",
      "        Attention-12               [-1, 2, 256]               0\n",
      "          PreNorm-13               [-1, 2, 256]               0\n",
      "         Residual-14               [-1, 2, 256]               0\n",
      "        LayerNorm-15               [-1, 2, 256]             512\n",
      "           Linear-16                 [-1, 2, 3]             771\n",
      "             GELU-17                 [-1, 2, 3]               0\n",
      "          Dropout-18                 [-1, 2, 3]               0\n",
      "           Linear-19               [-1, 2, 256]           1,024\n",
      "          Dropout-20               [-1, 2, 256]               0\n",
      "      FeedForward-21               [-1, 2, 256]               0\n",
      "          PreNorm-22               [-1, 2, 256]               0\n",
      "         Residual-23               [-1, 2, 256]               0\n",
      "        LayerNorm-24               [-1, 2, 256]             512\n",
      "           Linear-25              [-1, 2, 2304]         589,824\n",
      "          Dropout-26             [-1, 12, 2, 2]               0\n",
      "        Rearrange-27             [-1, 2, 2, 12]               0\n",
      "        LayerNorm-28             [-1, 2, 2, 12]              24\n",
      "        Rearrange-29             [-1, 12, 2, 2]               0\n",
      "           Linear-30               [-1, 2, 256]         196,864\n",
      "          Dropout-31               [-1, 2, 256]               0\n",
      "        Attention-32               [-1, 2, 256]               0\n",
      "          PreNorm-33               [-1, 2, 256]               0\n",
      "         Residual-34               [-1, 2, 256]               0\n",
      "        LayerNorm-35               [-1, 2, 256]             512\n",
      "           Linear-36                 [-1, 2, 3]             771\n",
      "             GELU-37                 [-1, 2, 3]               0\n",
      "          Dropout-38                 [-1, 2, 3]               0\n",
      "           Linear-39               [-1, 2, 256]           1,024\n",
      "          Dropout-40               [-1, 2, 256]               0\n",
      "      FeedForward-41               [-1, 2, 256]               0\n",
      "          PreNorm-42               [-1, 2, 256]               0\n",
      "         Residual-43               [-1, 2, 256]               0\n",
      "        LayerNorm-44               [-1, 2, 256]             512\n",
      "           Linear-45              [-1, 2, 2304]         589,824\n",
      "          Dropout-46             [-1, 12, 2, 2]               0\n",
      "        Rearrange-47             [-1, 2, 2, 12]               0\n",
      "        LayerNorm-48             [-1, 2, 2, 12]              24\n",
      "        Rearrange-49             [-1, 12, 2, 2]               0\n",
      "           Linear-50               [-1, 2, 256]         196,864\n",
      "          Dropout-51               [-1, 2, 256]               0\n",
      "        Attention-52               [-1, 2, 256]               0\n",
      "          PreNorm-53               [-1, 2, 256]               0\n",
      "         Residual-54               [-1, 2, 256]               0\n",
      "        LayerNorm-55               [-1, 2, 256]             512\n",
      "           Linear-56                 [-1, 2, 3]             771\n",
      "             GELU-57                 [-1, 2, 3]               0\n",
      "          Dropout-58                 [-1, 2, 3]               0\n",
      "           Linear-59               [-1, 2, 256]           1,024\n",
      "          Dropout-60               [-1, 2, 256]               0\n",
      "      FeedForward-61               [-1, 2, 256]               0\n",
      "          PreNorm-62               [-1, 2, 256]               0\n",
      "         Residual-63               [-1, 2, 256]               0\n",
      "        LayerNorm-64               [-1, 2, 256]             512\n",
      "           Linear-65              [-1, 2, 2304]         589,824\n",
      "          Dropout-66             [-1, 12, 2, 2]               0\n",
      "        Rearrange-67             [-1, 2, 2, 12]               0\n",
      "        LayerNorm-68             [-1, 2, 2, 12]              24\n",
      "        Rearrange-69             [-1, 12, 2, 2]               0\n",
      "           Linear-70               [-1, 2, 256]         196,864\n",
      "          Dropout-71               [-1, 2, 256]               0\n",
      "        Attention-72               [-1, 2, 256]               0\n",
      "          PreNorm-73               [-1, 2, 256]               0\n",
      "         Residual-74               [-1, 2, 256]               0\n",
      "        LayerNorm-75               [-1, 2, 256]             512\n",
      "           Linear-76                 [-1, 2, 3]             771\n",
      "             GELU-77                 [-1, 2, 3]               0\n",
      "          Dropout-78                 [-1, 2, 3]               0\n",
      "           Linear-79               [-1, 2, 256]           1,024\n",
      "          Dropout-80               [-1, 2, 256]               0\n",
      "      FeedForward-81               [-1, 2, 256]               0\n",
      "          PreNorm-82               [-1, 2, 256]               0\n",
      "         Residual-83               [-1, 2, 256]               0\n",
      "        LayerNorm-84               [-1, 2, 256]             512\n",
      "           Linear-85              [-1, 2, 2304]         589,824\n",
      "          Dropout-86             [-1, 12, 2, 2]               0\n",
      "        Rearrange-87             [-1, 2, 2, 12]               0\n",
      "        LayerNorm-88             [-1, 2, 2, 12]              24\n",
      "        Rearrange-89             [-1, 12, 2, 2]               0\n",
      "           Linear-90               [-1, 2, 256]         196,864\n",
      "          Dropout-91               [-1, 2, 256]               0\n",
      "        Attention-92               [-1, 2, 256]               0\n",
      "          PreNorm-93               [-1, 2, 256]               0\n",
      "         Residual-94               [-1, 2, 256]               0\n",
      "        LayerNorm-95               [-1, 2, 256]             512\n",
      "           Linear-96                 [-1, 2, 3]             771\n",
      "             GELU-97                 [-1, 2, 3]               0\n",
      "          Dropout-98                 [-1, 2, 3]               0\n",
      "           Linear-99               [-1, 2, 256]           1,024\n",
      "         Dropout-100               [-1, 2, 256]               0\n",
      "     FeedForward-101               [-1, 2, 256]               0\n",
      "         PreNorm-102               [-1, 2, 256]               0\n",
      "        Residual-103               [-1, 2, 256]               0\n",
      "       LayerNorm-104               [-1, 2, 256]             512\n",
      "          Linear-105              [-1, 2, 2304]         589,824\n",
      "         Dropout-106             [-1, 12, 2, 2]               0\n",
      "       Rearrange-107             [-1, 2, 2, 12]               0\n",
      "       LayerNorm-108             [-1, 2, 2, 12]              24\n",
      "       Rearrange-109             [-1, 12, 2, 2]               0\n",
      "          Linear-110               [-1, 2, 256]         196,864\n",
      "         Dropout-111               [-1, 2, 256]               0\n",
      "       Attention-112               [-1, 2, 256]               0\n",
      "         PreNorm-113               [-1, 2, 256]               0\n",
      "        Residual-114               [-1, 2, 256]               0\n",
      "       LayerNorm-115               [-1, 2, 256]             512\n",
      "          Linear-116                 [-1, 2, 3]             771\n",
      "            GELU-117                 [-1, 2, 3]               0\n",
      "         Dropout-118                 [-1, 2, 3]               0\n",
      "          Linear-119               [-1, 2, 256]           1,024\n",
      "         Dropout-120               [-1, 2, 256]               0\n",
      "     FeedForward-121               [-1, 2, 256]               0\n",
      "         PreNorm-122               [-1, 2, 256]               0\n",
      "        Residual-123               [-1, 2, 256]               0\n",
      "       LayerNorm-124               [-1, 2, 256]             512\n",
      "          Linear-125              [-1, 2, 2304]         589,824\n",
      "         Dropout-126             [-1, 12, 2, 2]               0\n",
      "       Rearrange-127             [-1, 2, 2, 12]               0\n",
      "       LayerNorm-128             [-1, 2, 2, 12]              24\n",
      "       Rearrange-129             [-1, 12, 2, 2]               0\n",
      "          Linear-130               [-1, 2, 256]         196,864\n",
      "         Dropout-131               [-1, 2, 256]               0\n",
      "       Attention-132               [-1, 2, 256]               0\n",
      "         PreNorm-133               [-1, 2, 256]               0\n",
      "        Residual-134               [-1, 2, 256]               0\n",
      "       LayerNorm-135               [-1, 2, 256]             512\n",
      "          Linear-136                 [-1, 2, 3]             771\n",
      "            GELU-137                 [-1, 2, 3]               0\n",
      "         Dropout-138                 [-1, 2, 3]               0\n",
      "          Linear-139               [-1, 2, 256]           1,024\n",
      "         Dropout-140               [-1, 2, 256]               0\n",
      "     FeedForward-141               [-1, 2, 256]               0\n",
      "         PreNorm-142               [-1, 2, 256]               0\n",
      "        Residual-143               [-1, 2, 256]               0\n",
      "       LayerNorm-144               [-1, 2, 256]             512\n",
      "          Linear-145              [-1, 2, 2304]         589,824\n",
      "         Dropout-146             [-1, 12, 2, 2]               0\n",
      "       Rearrange-147             [-1, 2, 2, 12]               0\n",
      "       LayerNorm-148             [-1, 2, 2, 12]              24\n",
      "       Rearrange-149             [-1, 12, 2, 2]               0\n",
      "          Linear-150               [-1, 2, 256]         196,864\n",
      "         Dropout-151               [-1, 2, 256]               0\n",
      "       Attention-152               [-1, 2, 256]               0\n",
      "         PreNorm-153               [-1, 2, 256]               0\n",
      "        Residual-154               [-1, 2, 256]               0\n",
      "       LayerNorm-155               [-1, 2, 256]             512\n",
      "          Linear-156                 [-1, 2, 3]             771\n",
      "            GELU-157                 [-1, 2, 3]               0\n",
      "         Dropout-158                 [-1, 2, 3]               0\n",
      "          Linear-159               [-1, 2, 256]           1,024\n",
      "         Dropout-160               [-1, 2, 256]               0\n",
      "     FeedForward-161               [-1, 2, 256]               0\n",
      "         PreNorm-162               [-1, 2, 256]               0\n",
      "        Residual-163               [-1, 2, 256]               0\n",
      "     Transformer-164               [-1, 2, 256]               0\n",
      "        Identity-165                  [-1, 256]               0\n",
      "       LayerNorm-166                  [-1, 256]             512\n",
      "          Linear-167                    [-1, 4]           1,028\n",
      "================================================================\n",
      "Total params: 7,104,476\n",
      "Trainable params: 7,104,476\n",
      "Non-trainable params: 0\n",
      "----------------------------------------------------------------\n",
      "Input size (MB): 0.01\n",
      "Forward/backward pass size (MB): 0.71\n",
      "Params size (MB): 27.10\n",
      "Estimated Total Size (MB): 27.82\n",
      "----------------------------------------------------------------\n"
     ]
    }
   ],
   "source": [
    "summary(base_model,(3,32,32))"
   ]
  },
  {
   "cell_type": "code",
   "execution_count": 33,
   "metadata": {
    "executionInfo": {
     "elapsed": 2,
     "status": "ok",
     "timestamp": 1667012825630,
     "user": {
      "displayName": "Pinky.Sherwani Btech2019",
      "userId": "02495759694323627567"
     },
     "user_tz": -330
    },
    "id": "ubdq3xNItQVi"
   },
   "outputs": [],
   "source": [
    "import torch.optim as optim\n",
    "from torch.nn import CrossEntropyLoss"
   ]
  },
  {
   "cell_type": "code",
   "execution_count": null,
   "metadata": {
    "executionInfo": {
     "elapsed": 3,
     "status": "ok",
     "timestamp": 1667012921661,
     "user": {
      "displayName": "Pinky.Sherwani Btech2019",
      "userId": "02495759694323627567"
     },
     "user_tz": -330
    },
    "id": "PiLwEG1UtTEa"
   },
   "outputs": [],
   "source": [
    "criterion= CrossEntropyLoss()\n",
    "optimizer= optim.Adam(base_model.parameters(),lr=0.001,weight_decay=0.0001)"
   ]
  },
  {
   "cell_type": "code",
   "execution_count": 36,
   "metadata": {
    "colab": {
     "base_uri": "https://localhost:8080/"
    },
    "executionInfo": {
     "elapsed": 420,
     "status": "ok",
     "timestamp": 1667012946067,
     "user": {
      "displayName": "Pinky.Sherwani Btech2019",
      "userId": "02495759694323627567"
     },
     "user_tz": -330
    },
    "id": "UqAcTVWNtXZa",
    "outputId": "994ce6ed-695d-47cf-c80b-958c3f8665ee"
   },
   "outputs": [
    {
     "data": {
      "text/plain": [
       "(5120, 3, 32, 32)"
      ]
     },
     "execution_count": 36,
     "metadata": {},
     "output_type": "execute_result"
    }
   ],
   "source": [
    "x_train.shape"
   ]
  },
  {
   "cell_type": "code",
   "execution_count": 37,
   "metadata": {
    "executionInfo": {
     "elapsed": 3,
     "status": "ok",
     "timestamp": 1667012947663,
     "user": {
      "displayName": "Pinky.Sherwani Btech2019",
      "userId": "02495759694323627567"
     },
     "user_tz": -330
    },
    "id": "cKfQG3bPtrZL"
   },
   "outputs": [],
   "source": [
    "x_train= np.transpose(x_train,(0,3,1,2))"
   ]
  },
  {
   "cell_type": "code",
   "execution_count": 38,
   "metadata": {
    "colab": {
     "base_uri": "https://localhost:8080/"
    },
    "executionInfo": {
     "elapsed": 3,
     "status": "ok",
     "timestamp": 1667012949750,
     "user": {
      "displayName": "Pinky.Sherwani Btech2019",
      "userId": "02495759694323627567"
     },
     "user_tz": -330
    },
    "id": "t_q92tlqttPR",
    "outputId": "7f6a50ad-6ad5-435c-a97d-9ede3d28c320"
   },
   "outputs": [
    {
     "data": {
      "text/plain": [
       "(5120, 32, 3, 32)"
      ]
     },
     "execution_count": 38,
     "metadata": {},
     "output_type": "execute_result"
    }
   ],
   "source": [
    "x_train.shape"
   ]
  },
  {
   "cell_type": "code",
   "execution_count": 44,
   "metadata": {
    "colab": {
     "base_uri": "https://localhost:8080/"
    },
    "executionInfo": {
     "elapsed": 4982,
     "status": "ok",
     "timestamp": 1667013229229,
     "user": {
      "displayName": "Pinky.Sherwani Btech2019",
      "userId": "02495759694323627567"
     },
     "user_tz": -330
    },
    "id": "DdxXMasRuxEr",
    "outputId": "43eb605b-da60-44e6-deca-4624964b7c21"
   },
   "outputs": [
    {
     "name": "stdout",
     "output_type": "stream",
     "text": [
      "Looking in indexes: https://pypi.org/simple, https://us-python.pkg.dev/colab-wheels/public/simple/\n",
      "Collecting torchmetrics\n",
      "  Downloading torchmetrics-0.10.1-py3-none-any.whl (529 kB)\n",
      "\u001b[K     |████████████████████████████████| 529 kB 5.1 MB/s \n",
      "\u001b[?25hRequirement already satisfied: typing-extensions in /usr/local/lib/python3.7/dist-packages (from torchmetrics) (4.1.1)\n",
      "Requirement already satisfied: packaging in /usr/local/lib/python3.7/dist-packages (from torchmetrics) (21.3)\n",
      "Requirement already satisfied: torch>=1.3.1 in /usr/local/lib/python3.7/dist-packages (from torchmetrics) (1.12.1+cu113)\n",
      "Requirement already satisfied: numpy>=1.17.2 in /usr/local/lib/python3.7/dist-packages (from torchmetrics) (1.21.6)\n",
      "Requirement already satisfied: pyparsing!=3.0.5,>=2.0.2 in /usr/local/lib/python3.7/dist-packages (from packaging->torchmetrics) (3.0.9)\n",
      "Installing collected packages: torchmetrics\n",
      "Successfully installed torchmetrics-0.10.1\n"
     ]
    }
   ],
   "source": [
    "pip install torchmetrics"
   ]
  },
  {
   "cell_type": "code",
   "execution_count": 50,
   "metadata": {
    "executionInfo": {
     "elapsed": 370,
     "status": "ok",
     "timestamp": 1667013332707,
     "user": {
      "displayName": "Pinky.Sherwani Btech2019",
      "userId": "02495759694323627567"
     },
     "user_tz": -330
    },
    "id": "u5CUI9bntgPS"
   },
   "outputs": [],
   "source": [
    "from torchmetrics import Accuracy"
   ]
  },
  {
   "cell_type": "code",
   "execution_count": null,
   "metadata": {
    "colab": {
     "base_uri": "https://localhost:8080/",
     "height": 380
    },
    "executionInfo": {
     "elapsed": 790,
     "status": "error",
     "timestamp": 1667013338714,
     "user": {
      "displayName": "Pinky.Sherwani Btech2019",
      "userId": "02495759694323627567"
     },
     "user_tz": -330
    },
    "id": "6xyQt7WVtnn6",
    "outputId": "16ae4d69-6fc3-4b33-ffbe-b2330055a417"
   },
   "outputs": [],
   "source": [
    "n_epochs=20\n",
    "accuracy= Accuracy()\n",
    "i=0\n",
    "for epoch in range(n_epochs):\n",
    "  running_loss=0.0\n",
    "  features= torch.from_numpy(x_train)\n",
    "  labels= torch.from_numpy(y_train)\n",
    "  optimizer.zero_grad()\n",
    "\n",
    "  outputs=base_model(features)\n",
    "  loss=criterion(outputs,labels)\n",
    "  loss.backward()\n",
    "  optimizer.step()\n",
    "\n",
    "\n",
    "  running_loss+=loss.item()\n",
    "  ouputs= torch.tensor(outputs)\n",
    "  labels= torch.tensor(labels)\n",
    "\n",
    "  print(f'[{epoch + 1}, {i + 1:5d}] loss: {running_loss}')\n",
    "  print(f'[{epoch+1},{i+1:5d}] accuracy:{accuracy(outputs,labels)}')\n",
    "  running_loss = 0.0\n",
    "  i+=1\n",
    "print('Finished Training')\n"
   ]
  },
  {
   "cell_type": "code",
   "execution_count": null,
   "metadata": {
    "colab": {
     "base_uri": "https://localhost:8080/",
     "height": 321
    },
    "executionInfo": {
     "elapsed": 409,
     "status": "error",
     "timestamp": 1666516665304,
     "user": {
      "displayName": "Kashish",
      "userId": "04687121314509029638"
     },
     "user_tz": -330
    },
    "id": "7MfjCkQHLBf_",
    "outputId": "03a0cb7f-b352-4ff6-8d30-59938aee632d"
   },
   "outputs": [],
   "source": [
    "def run_experiment(model):\n",
    "    optimizer = tfa.optimizers.AdamW(learning_rate=learning_rate, weight_decay=weight_decay\n",
    "    )\n",
    "    # model.compile(\n",
    "    #     optimizer=optimizer,\n",
    "    #     metrics=[\n",
    "    #         keras.metrics.CategoricalAccuracy(name=\"accuracy\"),\n",
    "    #         keras.metrics.TopKCategoricalAccuracy(5, name=\"top-5-accuracy\"),\n",
    "    #     ],\n",
    "    # )\n",
    "\n",
    "    checkpoint_filepath = \"/tmp/checkpoint\"\n",
    "    checkpoint_callback = keras.callbacks.ModelCheckpoint(\n",
    "        checkpoint_filepath,\n",
    "        monitor=\"val_accuracy\",\n",
    "        save_best_only=True,\n",
    "        save_weights_only=True,\n",
    "    )\n",
    "\n",
    "    # history = model.fit(\n",
    "    #     x=x_train,\n",
    "    #     y=y_train,\n",
    "    #     batch_size=batch_size,\n",
    "    #     epochs=num_epochs,\n",
    "    #     validation_split=0.1,\n",
    "    #     callbacks=[checkpoint_callback] )\n",
    "\n",
    "    # model.load_weights(checkpoint_filepath)\n",
    "    # _, accuracy, top_5_accuracy = model.evaluate(x_test, y_test)\n",
    "    # print(f\"Test accuracy: {round(accuracy * 100, 2)}%\")\n",
    "    # print(f\"Test top 5 accuracy: {round(top_5_accuracy * 100, 2)}%\")\n",
    "\n",
    "    # return history\n",
    "\n",
    "\n",
    "deepvit_classifier = create_deepvit_classifier()\n",
    "deep_vit = deepvitf()\n",
    "history = run_experiment(deep_vit)"
   ]
  }
 ],
 "metadata": {
  "colab": {
   "collapsed_sections": [],
   "provenance": []
  },
  "kernelspec": {
   "display_name": "Python 3",
   "name": "python3"
  },
  "language_info": {
   "name": "python"
  }
 },
 "nbformat": 4,
 "nbformat_minor": 0
}
